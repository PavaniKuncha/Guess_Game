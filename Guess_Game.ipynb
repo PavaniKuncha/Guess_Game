{
  "nbformat": 4,
  "nbformat_minor": 0,
  "metadata": {
    "colab": {
      "provenance": [],
      "authorship_tag": "ABX9TyPr/C5SOscs9c1fdxtOpToD",
      "include_colab_link": true
    },
    "kernelspec": {
      "name": "python3",
      "display_name": "Python 3"
    },
    "language_info": {
      "name": "python"
    }
  },
  "cells": [
    {
      "cell_type": "markdown",
      "metadata": {
        "id": "view-in-github",
        "colab_type": "text"
      },
      "source": [
        "<a href=\"https://colab.research.google.com/github/PavaniKuncha/Guess_Game/blob/main/Guess_Game.ipynb\" target=\"_parent\"><img src=\"https://colab.research.google.com/assets/colab-badge.svg\" alt=\"Open In Colab\"/></a>"
      ]
    },
    {
      "cell_type": "code",
      "execution_count": null,
      "metadata": {
        "colab": {
          "base_uri": "https://localhost:8080/"
        },
        "id": "UjVlAu_X0h5D",
        "outputId": "7e3af0f3-2da2-4620-9f45-0119b91ad655"
      },
      "outputs": [
        {
          "output_type": "stream",
          "name": "stdout",
          "text": [
            "[1177]\n",
            "Player 1 : Guess a four digit number\n",
            "Player 2 : 1177\n",
            "Player 1 : Congratulations! Now my turn\n",
            "[3454]\n",
            "Player 2 : Guess a four digit number\n",
            "Player 1 : 3545\n",
            "Player 2 : position 0 value 3 is correct\n",
            "Player 1 : 3454\n",
            "Player 2 : Congratulations!\n",
            "******* Player 1 is the mastermind! *******\n"
          ]
        }
      ],
      "source": [
        "import random\n",
        "\n",
        "players_count = 2\n",
        "A = 1\n",
        "B = 2\n",
        "guess_count_A = 0\n",
        "guess_count_B = 0\n",
        "Game = 1\n",
        "\n",
        "while Game < 3:\n",
        "\n",
        "  Game_num = random.sample(range(1000, 10000), 1)\n",
        "  print(Game_num)\n",
        "  guess_count = 0\n",
        "\n",
        "  print(f\"Player {A} : Guess a four digit number\")\n",
        "  guess = (input(f\"Player {B} : \"))\n",
        "  if len(guess) != 4 or guess[0] == 0:\n",
        "    print(f\"Player {A} : input a Valid four digit number\")\n",
        "    guess = (input(f\"Player {B} : \"))\n",
        "  else:\n",
        "    while True:\n",
        "\n",
        "      guess_count += 1\n",
        "      if int(guess) == int(''.join(map(str, Game_num))):\n",
        "\n",
        "        if Game == 1:\n",
        "          print(f\"Player {A} : Congratulations! Now my turn\")\n",
        "        else:\n",
        "          print(f\"Player {A} : Congratulations!\")\n",
        "        if A == 1:\n",
        "          guess_count_A = guess_count\n",
        "        else:\n",
        "          guess_count_B = guess_count\n",
        "        A, B = B, A\n",
        "        Game += 1\n",
        "        break\n",
        "\n",
        "      else:\n",
        "        game_num_str = str(int(''.join(map(str, Game_num))))\n",
        "        for i in range(4):\n",
        "          if guess[i] == game_num_str[i]:\n",
        "              print(f\"Player {A} : position {i} value {guess[i]} is correct\")\n",
        "        guess = (input(f\"Player {B} : \"))\n",
        "\n",
        "\n",
        "\n",
        "if guess_count_A < guess_count_B:\n",
        "    print(f\"******* Player 1 is the mastermind! *******\")\n",
        "elif guess_count_B < guess_count_A:\n",
        "    print(f\"******* Player 2 is the mastermind! *******\")\n",
        "else:\n",
        "    print(\"******* It's a draw! *******\")"
      ]
    }
  ]
}